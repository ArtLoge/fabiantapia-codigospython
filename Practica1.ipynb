{
 "cells": [
  {
   "cell_type": "markdown",
   "id": "dbce02a9",
   "metadata": {},
   "source": [
    "1. Dibuja una casa"
   ]
  },
  {
   "cell_type": "code",
   "execution_count": 1,
   "id": "4ad46c5f",
   "metadata": {},
   "outputs": [
    {
     "name": "stdout",
     "output_type": "stream",
     "text": [
      " //\\ \n",
      "//__\\ \n",
      "||  |\n",
      "||__|\n"
     ]
    }
   ],
   "source": [
    "print(\" //\\ \\n//__\\ \\n||  |\\n||__|\")"
   ]
  },
  {
   "cell_type": "markdown",
   "id": "90bb35b3",
   "metadata": {},
   "source": [
    "2. Mensaje de bienvenida"
   ]
  },
  {
   "cell_type": "code",
   "execution_count": 3,
   "id": "d547578a",
   "metadata": {
    "scrolled": true
   },
   "outputs": [
    {
     "name": "stdout",
     "output_type": "stream",
     "text": [
      "Introduce tu nombre\n",
      "Fabian\n",
      "Introduce tu correo\n",
      "art.loge\n",
      "Introduce tu telefono\n",
      "556171819\n",
      "Bienvenido Fabian art.loge 556171819\n"
     ]
    }
   ],
   "source": [
    "print(\"Introduce tu nombre\")\n",
    "nombre = input()\n",
    "print(\"Introduce tu correo\")\n",
    "correo = input()\n",
    "print(\"Introduce tu telefono\")\n",
    "telefono = input()\n",
    "print(\"Bienvenido \" + nombre + \" \" + correo + \" \" + telefono)"
   ]
  },
  {
   "cell_type": "markdown",
   "id": "c41e6a98",
   "metadata": {},
   "source": [
    "3. Calculo de Resistencia Total de 2 resistores en paralelo"
   ]
  },
  {
   "cell_type": "code",
   "execution_count": 4,
   "id": "607aa653",
   "metadata": {},
   "outputs": [
    {
     "name": "stdout",
     "output_type": "stream",
     "text": [
      "10\n",
      "5\n",
      "RT =\n"
     ]
    },
    {
     "data": {
      "text/plain": [
       "3.333333333333333"
      ]
     },
     "execution_count": 4,
     "metadata": {},
     "output_type": "execute_result"
    }
   ],
   "source": [
    "r1 = int(input())\n",
    "r2 = int(input())\n",
    "print(\"RT =\")\n",
    "1/(1/r1 + 1/r2)"
   ]
  },
  {
   "cell_type": "markdown",
   "id": "897ae046",
   "metadata": {},
   "source": [
    "4. Calculo de una Matriz 2x2"
   ]
  },
  {
   "cell_type": "code",
   "execution_count": 5,
   "id": "2f2d05b7",
   "metadata": {},
   "outputs": [
    {
     "name": "stdout",
     "output_type": "stream",
     "text": [
      "0\n"
     ]
    }
   ],
   "source": [
    "matriz = [[5,10],[4,8]]\n",
    "Determinante = (matriz[0][0]*matriz[1][1]) - (matriz[0][1]*matriz[1][0])\n",
    "print(Determinante)"
   ]
  },
  {
   "cell_type": "markdown",
   "id": "544f525c",
   "metadata": {},
   "source": [
    "6. Positivo, negativo ó cero."
   ]
  },
  {
   "cell_type": "code",
   "execution_count": 6,
   "id": "31c79247",
   "metadata": {},
   "outputs": [
    {
     "name": "stdout",
     "output_type": "stream",
     "text": [
      "6\n",
      "numero positivo\n"
     ]
    }
   ],
   "source": [
    "num = int(input())\n",
    "if(num>0):\n",
    "    print(\"numero positivo\")\n",
    "elif(num<0):\n",
    "    print(\"numero negativo\")\n",
    "else:\n",
    "    print(\"el numero es cero\")"
   ]
  },
  {
   "cell_type": "markdown",
   "id": "daa30507",
   "metadata": {},
   "source": [
    "7. Simulación de prestamo"
   ]
  },
  {
   "cell_type": "code",
   "execution_count": 7,
   "id": "005fb0b1",
   "metadata": {},
   "outputs": [
    {
     "name": "stdout",
     "output_type": "stream",
     "text": [
      "Introduzca su edad 29\n",
      "Introduzca sus ingresos 500\n",
      "Introduzca sus egresos 400\n",
      "Introduzca la cantidad de su prestamo deseado 200\n",
      "En cuantos meses desea pagar 2\n",
      "prestamo aprobado\n"
     ]
    }
   ],
   "source": [
    "edad = int(input(\"Introduzca su edad \"))\n",
    "ing = int(input(\"Introduzca sus ingresos \"))\n",
    "egr = int(input(\"Introduzca sus egresos \"))\n",
    "prestamo = int(input(\"Introduzca la cantidad de su prestamo deseado \"))\n",
    "meses = int(input(\"En cuantos meses desea pagar \"))\n",
    "if(edad<18):\n",
    "    print(\"Usted no puede solicitar un prestamo\")\n",
    "elif((prestamo/meses)<(ing-egr)):\n",
    "    print(\"La cantidad solicitada excede sus posibilidades de pago\")\n",
    "else:\n",
    "    print(\"prestamo aprobado\")"
   ]
  },
  {
   "cell_type": "markdown",
   "id": "60c271fb",
   "metadata": {},
   "source": [
    "8. Imprime el patron"
   ]
  },
  {
   "cell_type": "code",
   "execution_count": 8,
   "id": "218db5dd",
   "metadata": {},
   "outputs": [
    {
     "name": "stdout",
     "output_type": "stream",
     "text": [
      "* \n",
      "* * \n",
      "* * * \n",
      "* * * * \n",
      "* * * * * \n",
      "* * * * \n",
      "* * * \n",
      "* * \n",
      "* \n"
     ]
    }
   ],
   "source": [
    "n = 5\n",
    "for i in range(1, n+1):\n",
    "    for j in range(i):\n",
    "        print(\"* \", end=\"\")\n",
    "    print()\n",
    "for i in range(n-1,0,-1):\n",
    "    for j in range(i):\n",
    "        print(\"* \", end=\"\")\n",
    "    print()"
   ]
  },
  {
   "cell_type": "markdown",
   "id": "3f3ef8f7",
   "metadata": {},
   "source": [
    "9. Invierte una palabra"
   ]
  },
  {
   "cell_type": "code",
   "execution_count": 9,
   "id": "e6b1ae9f",
   "metadata": {},
   "outputs": [
    {
     "name": "stdout",
     "output_type": "stream",
     "text": [
      "anita lava la tina\n",
      "anit al aval atina\n"
     ]
    }
   ],
   "source": [
    "palabra = input()\n",
    "print(palabra[::-1])"
   ]
  },
  {
   "cell_type": "markdown",
   "id": "89c5a4b3",
   "metadata": {},
   "source": [
    "10. Imprime del 0 al 6 sin el 3 ni el 6"
   ]
  },
  {
   "cell_type": "code",
   "execution_count": 10,
   "id": "860abf08",
   "metadata": {},
   "outputs": [
    {
     "name": "stdout",
     "output_type": "stream",
     "text": [
      "0\n",
      "1\n",
      "2\n",
      "4\n",
      "5\n"
     ]
    }
   ],
   "source": [
    "for x in range(7):\n",
    "    if (x!=3 and x!=6):\n",
    "        print(x)"
   ]
  },
  {
   "cell_type": "markdown",
   "id": "58ff268b",
   "metadata": {},
   "source": [
    "5. Resuelve una ecuacion lineal cuadratica"
   ]
  },
  {
   "cell_type": "code",
   "execution_count": 11,
   "id": "303f936d",
   "metadata": {},
   "outputs": [
    {
     "name": "stdout",
     "output_type": "stream",
     "text": [
      "Ingrese el coeficiente de la variable cuadrática7\n",
      "Ingrese el coeficiente de la variable lineal -3\n",
      "Ingrese el término independiente8\n",
      "La solución de la ecuación es con números complejos\n"
     ]
    }
   ],
   "source": [
    "from math import sqrt\n",
    "A = int(input(\"Ingrese el coeficiente de la variable cuadrática\"))\n",
    "B = int(input(\"Ingrese el coeficiente de la variable lineal \"))\n",
    "C = int(input(\"Ingrese el término independiente\"))\n",
    "if ((B**2)-4*A*C) < 0:\n",
    "    print(\"La solución de la ecuación es con números complejos\")\n",
    "else:\n",
    "    x1 = (-B+sqrt(B**2-(4*A*C)))/(2*A)\n",
    "    x2 = (-B-sqrt(B**2-(4*A*C)))/(2*A)\n",
    "    print(\"Las soluciones de la ecuación son:\")\n",
    "    print(x1)\n",
    "    print(x2)"
   ]
  },
  {
   "cell_type": "code",
   "execution_count": null,
   "id": "223e511e",
   "metadata": {},
   "outputs": [],
   "source": []
  }
 ],
 "metadata": {
  "kernelspec": {
   "display_name": "Python 3",
   "language": "python",
   "name": "python3"
  },
  "language_info": {
   "codemirror_mode": {
    "name": "ipython",
    "version": 3
   },
   "file_extension": ".py",
   "mimetype": "text/x-python",
   "name": "python",
   "nbconvert_exporter": "python",
   "pygments_lexer": "ipython3",
   "version": "3.8.8"
  }
 },
 "nbformat": 4,
 "nbformat_minor": 5
}
